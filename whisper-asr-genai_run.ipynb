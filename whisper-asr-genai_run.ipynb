{
 "cells": [
  {
   "attachments": {},
   "cell_type": "markdown",
   "id": "7f9d23c5",
   "metadata": {},
   "source": [
    "# Whisper for OpenVINO GenAI 單獨執行含 Gradio 介面範例(deepseek-r1-run.ipynb)\n",
    "by Jack OmniXRI, 2025/03/24\n",
    "\n",
    "原始範例: https://github.com/openvinotoolkit/openvino_notebooks/blob/latest/notebooks/whisper-asr-genai/whisper-asr-genai.ipynb\n",
    "\n",
    "原始範例全部執行(Restart Kernel and Run All Cells）後，預設會取得 whisper-tiny 模型， 經轉換後會得到  whisper-tiny-quantized 量化後較小的模型。如果辨識率不佳想要使用大一點的模型，可採用手動單步執行方式完成。\n",
    "\n",
    "本範例為簡化版，執行前需先完整執行過原始範例，取得模型並轉換好 OpenVINO 所需 IR 格式。"
   ]
  },
  {
   "cell_type": "markdown",
   "id": "06a28231-29cf-4a51-b87f-e053250f355a",
   "metadata": {},
   "source": [
    "## 1. 設定工作參數"
   ]
  },
  {
   "cell_type": "code",
   "execution_count": 1,
   "id": "f687d193-01d7-4ed6-bac5-2a44dda71b09",
   "metadata": {},
   "outputs": [],
   "source": [
    "# 指定執行裝置 \"CPU\", \"GPU\", \"NPU\", \"AUTO\"\n",
    "device = \"GPU\"\n",
    "\n",
    "# 指定模型名稱  \"whisper-large-v3-turbo\", \"whisper-large-v3\", \"whisper-large-v2\", \"whisper-large\",\n",
    "#              \"whisper-medium\", \"whisper-small\", \"whisper-base\", \"whisper-tiny\",\n",
    "# 若要指定量化後模型 model_id 則在原名稱後方再加上 -quantized\n",
    "model_id = \"whisper-small\""
   ]
  },
  {
   "cell_type": "code",
   "execution_count": 2,
   "id": "57938273-d1df-4e33-bc4a-570c2e518f6b",
   "metadata": {},
   "outputs": [],
   "source": [
    "# 指定 OpenVINO IR 格式模型(*.xml)、權重(*.bin) 路徑，假設對應模型已下載並轉檔完成\n",
    "\n",
    "from pathlib import Path\n",
    "\n",
    "model_path = Path(f\"{model_id}\")"
   ]
  },
  {
   "cell_type": "markdown",
   "id": "8f00f0b3-9ece-48aa-bf24-d4e51a90a511",
   "metadata": {},
   "source": [
    "## 2. 使用 OpenVINO GenAI 實例化 LLM 流水線"
   ]
  },
  {
   "cell_type": "code",
   "execution_count": 3,
   "id": "e2896f4c",
   "metadata": {},
   "outputs": [
    {
     "name": "stdout",
     "output_type": "stream",
     "text": [
      "Loading model from whisper-small\n",
      "\n"
     ]
    },
    {
     "name": "stderr",
     "output_type": "stream",
     "text": [
      "C:\\openvino_env_py310\\lib\\site-packages\\openvino\\runtime\\__init__.py:10: DeprecationWarning: The `openvino.runtime` module is deprecated and will be removed in the 2026.0 release. Please replace `openvino.runtime` with `openvino`.\n",
      "  warnings.warn(\n"
     ]
    },
    {
     "name": "stdout",
     "output_type": "stream",
     "text": [
      "Model loading time: 2.0871 seconds\n",
      "\n"
     ]
    }
   ],
   "source": [
    "import openvino_genai as ov_genai\n",
    "import sys\n",
    "import time\n",
    "\n",
    "print(f\"Loading model from {model_path}\\n\")\n",
    "\n",
    "t0 = time.perf_counter() # 取得開始時間\n",
    "\n",
    "ov_pipe = ov_genai.WhisperPipeline(str(model_path), device)\n",
    "\n",
    "t1 = time.perf_counter() # 取得結束時間\n",
    "print(f\"Model loading time: {(t1-t0):.4f} seconds\\n\") # 列出模型載入時間"
   ]
  },
  {
   "attachments": {},
   "cell_type": "markdown",
   "id": "e6d37c6e",
   "metadata": {},
   "source": [
    "Let's run the `transcribe` task. We just call `generate` for that and put array as input."
   ]
  },
  {
   "attachments": {},
   "cell_type": "markdown",
   "id": "450e13ed-197c-4743-94f8-4e0a206c1b76",
   "metadata": {},
   "source": [
    "## 3. 啟動聊天機器人人機介面\n",
    "\n",
    "Gradio 人機介面設定可參考 gradio_helper_whisper_run.py\n",
    "\n",
    "執行後可直接在欄位上操作，亦可開啟網址 http://127.0.0.1:7860 (http://localhost:7860) 使用瀏覽器頁面進行操作。\n",
    "\n",
    "操作時可點選下方範例聲音聲案或自行選擇聲音檔案載入，或點擊麥克風圖案，再點擊紅色圓點錄音符號進行錄音，接著按下「Transcribe」即可將聲音轉成文字，同時顯示轉換耗時及文字內容，目前輸人的語音可支援中英混合。若想將中文即時翻成英文，則按下「Translate」就會把結果顯示在「Result」區域。"
   ]
  },
  {
   "cell_type": "code",
   "execution_count": null,
   "id": "96b18c5b-caaf-4f2a-8535-61f4b807ac94",
   "metadata": {
    "ExecuteTime": {
     "start_time": "2023-11-08T16:25:57.567654400Z"
    },
    "is_executing": true
   },
   "outputs": [
    {
     "name": "stdout",
     "output_type": "stream",
     "text": [
      "* Running on local URL:  http://127.0.0.1:7863\n",
      "\n",
      "To create a public link, set `share=True` in `launch()`.\n"
     ]
    },
    {
     "data": {
      "text/html": [
       "<div><iframe src=\"http://127.0.0.1:7863/\" width=\"100%\" height=\"500\" allow=\"autoplay; camera; microphone; clipboard-read; clipboard-write;\" frameborder=\"0\" allowfullscreen></iframe></div>"
      ],
      "text/plain": [
       "<IPython.core.display.HTML object>"
      ]
     },
     "metadata": {},
     "output_type": "display_data"
    }
   ],
   "source": [
    "from gradio_helper_whisper_run import make_demo, GradioPipeline\n",
    "\n",
    "pipe = ov_pipe\n",
    "\n",
    "gr_pipeline = GradioPipeline(pipe, model_id, quantized=False)\n",
    "\n",
    "demo = make_demo(gr_pipeline)\n",
    "\n",
    "try:\n",
    "    demo.launch(debug=True)\n",
    "except Exception:\n",
    "    demo.launch(share=True, debug=True)\n",
    "# if you are launching remotely, specify server_name and server_port\n",
    "# demo.launch(server_name='your server name', server_port='server port in int')\n",
    "# Read more in the docs: https://gradio.app/docs/"
   ]
  },
  {
   "cell_type": "code",
   "execution_count": null,
   "id": "f638fdc5-72cd-475e-bd8f-2bf6a4a114b1",
   "metadata": {},
   "outputs": [],
   "source": []
  }
 ],
 "metadata": {
  "kernelspec": {
   "display_name": "Python 3 (ipykernel)",
   "language": "python",
   "name": "python3"
  },
  "language_info": {
   "codemirror_mode": {
    "name": "ipython",
    "version": 3
   },
   "file_extension": ".py",
   "mimetype": "text/x-python",
   "name": "python",
   "nbconvert_exporter": "python",
   "pygments_lexer": "ipython3",
   "version": "3.10.11"
  },
  "openvino_notebooks": {
   "imageUrl": "https://github.com/openvinotoolkit/openvino_notebooks/assets/29454499/52c58b58-7730-48d2-803d-4af0b6115499",
   "tags": {
    "categories": [
     "Model Demos",
     "AI Trends"
    ],
    "libraries": [],
    "other": [],
    "tasks": [
     "Speech Recognition"
    ]
   }
  },
  "widgets": {
   "application/vnd.jupyter.widget-state+json": {
    "state": {
     "049de2cd55844750aa92d1acc01c342d": {
      "model_module": "@jupyter-widgets/base",
      "model_module_version": "2.0.0",
      "model_name": "LayoutModel",
      "state": {}
     },
     "0a82dd9b129c4682950c71eb4ad1869d": {
      "model_module": "@jupyter-widgets/base",
      "model_module_version": "2.0.0",
      "model_name": "LayoutModel",
      "state": {}
     },
     "0fc87285d3bb45b1a2034fe1be20da2c": {
      "model_module": "@jupyter-widgets/controls",
      "model_module_version": "2.0.0",
      "model_name": "ProgressStyleModel",
      "state": {
       "description_width": ""
      }
     },
     "1fae8dfb69ed4a1bb74a506026d50251": {
      "model_module": "@jupyter-widgets/controls",
      "model_module_version": "2.0.0",
      "model_name": "DropdownModel",
      "state": {
       "_options_labels": [
        "Multilingual models",
        "English-only models"
       ],
       "description": "Model:",
       "index": 0,
       "layout": "IPY_MODEL_9e71d55449104669ac988e41dcb4ac45",
       "style": "IPY_MODEL_a221a0870e0348a48ffc2657d70309e0"
      }
     },
     "25e6f14ec8c84fcc97ea03ef87c01563": {
      "model_module": "@jupyter-widgets/controls",
      "model_module_version": "2.0.0",
      "model_name": "HTMLStyleModel",
      "state": {
       "description_width": "",
       "font_size": null,
       "text_color": null
      }
     },
     "2934ab49fec74ec3bea684a4aeb20a36": {
      "model_module": "@jupyter-widgets/output",
      "model_module_version": "1.0.0",
      "model_name": "OutputModel",
      "state": {
       "layout": "IPY_MODEL_0a82dd9b129c4682950c71eb4ad1869d",
       "outputs": [
        {
         "data": {
          "text/html": "<pre style=\"white-space:pre;overflow-x:auto;line-height:normal;font-family:Menlo,'DejaVu Sans Mono',consolas,'Courier New',monospace\">Applying Smooth Quant <span style=\"color: #729c1f; text-decoration-color: #729c1f\">━━━━━━━━━━━━━━━━━━━━━━━━━━━━━━━━━━━━━━━━━━━━━━━━━━━━━━━━━━━━━━</span> <span style=\"color: #800080; text-decoration-color: #800080\">100%</span> <span style=\"color: #0068b5; text-decoration-color: #0068b5\">16/16</span> • <span style=\"color: #0068b5; text-decoration-color: #0068b5\">0:00:00</span> • <span style=\"color: #0068b5; text-decoration-color: #0068b5\">0:00:00</span>\n</pre>\n",
          "text/plain": "Applying Smooth Quant \u001b[38;2;114;156;31m━━━━━━━━━━━━━━━━━━━━━━━━━━━━━━━━━━━━━━━━━━━━━━━━━━━━━━━━━━━━━━\u001b[0m \u001b[35m100%\u001b[0m \u001b[38;2;0;104;181m16/16\u001b[0m • \u001b[38;2;0;104;181m0:00:00\u001b[0m • \u001b[38;2;0;104;181m0:00:00\u001b[0m\n"
         },
         "metadata": {},
         "output_type": "display_data"
        }
       ]
      }
     },
     "2a09c5cdb2974e68943e455b2fd52d8d": {
      "model_module": "@jupyter-widgets/base",
      "model_module_version": "2.0.0",
      "model_name": "LayoutModel",
      "state": {}
     },
     "2b6bea2fa75d464abce6bf980caca593": {
      "model_module": "@jupyter-widgets/base",
      "model_module_version": "2.0.0",
      "model_name": "LayoutModel",
      "state": {}
     },
     "2fa7128f8fe44504a362090c8f2024c1": {
      "model_module": "@jupyter-widgets/controls",
      "model_module_version": "2.0.0",
      "model_name": "HTMLModel",
      "state": {
       "layout": "IPY_MODEL_a33993396f1249d89420edc5fe5b978d",
       "style": "IPY_MODEL_79b98ec0a8b344039fa4ca96ed44e868",
       "value": " 30/30 [00:13&lt;00:00,  3.72it/s]"
      }
     },
     "3063e9a5aa214ecd95a75bb1daff047c": {
      "model_module": "@jupyter-widgets/base",
      "model_module_version": "2.0.0",
      "model_name": "LayoutModel",
      "state": {}
     },
     "32cff900a4824d54aa5fceb48116c62e": {
      "model_module": "@jupyter-widgets/controls",
      "model_module_version": "2.0.0",
      "model_name": "HTMLStyleModel",
      "state": {
       "description_width": "",
       "font_size": null,
       "text_color": null
      }
     },
     "35245d1b28bb45feb8d2294b007ddf4d": {
      "model_module": "@jupyter-widgets/controls",
      "model_module_version": "2.0.0",
      "model_name": "HTMLModel",
      "state": {
       "layout": "IPY_MODEL_c437cb5a38614b68bc37497af8dc0ca9",
       "style": "IPY_MODEL_fb62be4b7a084b8c832c9d91efc56b66",
       "value": "Collecting calibration data: 100%"
      }
     },
     "3966565cb3d346499e1c085088a11071": {
      "model_module": "@jupyter-widgets/controls",
      "model_module_version": "2.0.0",
      "model_name": "HTMLStyleModel",
      "state": {
       "description_width": "",
       "font_size": null,
       "text_color": null
      }
     },
     "413e2e6db6b74362bc8a8073f8f56452": {
      "model_module": "@jupyter-widgets/base",
      "model_module_version": "2.0.0",
      "model_name": "LayoutModel",
      "state": {}
     },
     "43884fe106384a828b8dbbff9d82eb43": {
      "model_module": "@jupyter-widgets/controls",
      "model_module_version": "2.0.0",
      "model_name": "DropdownModel",
      "state": {
       "_options_labels": [
        "japanese",
        "dutch",
        "french",
        "spanish",
        "italian",
        "portuguese",
        "polish"
       ],
       "description": "Dataset language:",
       "index": 4,
       "layout": "IPY_MODEL_80ec67feeaae4393b083f785a3964041",
       "style": "IPY_MODEL_7c115e70fb2945b4a39bcb3a5d1e1ef9"
      }
     },
     "44d737f56578422096775d46347d542e": {
      "model_module": "@jupyter-widgets/controls",
      "model_module_version": "2.0.0",
      "model_name": "DescriptionStyleModel",
      "state": {
       "description_width": ""
      }
     },
     "4949fea19e50449f93e881babead1fc6": {
      "model_module": "@jupyter-widgets/base",
      "model_module_version": "2.0.0",
      "model_name": "LayoutModel",
      "state": {}
     },
     "4a093445337d41199b11c3f13cc291d9": {
      "model_module": "@jupyter-widgets/controls",
      "model_module_version": "2.0.0",
      "model_name": "HTMLModel",
      "state": {
       "layout": "IPY_MODEL_de04d94eef7646588999669a647cea10",
       "style": "IPY_MODEL_adb22e2cdbee406b8a521ba88009b7b6",
       "value": "Measuring performance: 100%"
      }
     },
     "4b01107690254f36b97d7a3de642f22e": {
      "model_module": "@jupyter-widgets/controls",
      "model_module_version": "2.0.0",
      "model_name": "HBoxModel",
      "state": {
       "children": [
        "IPY_MODEL_35245d1b28bb45feb8d2294b007ddf4d",
        "IPY_MODEL_a17973a553a14ef1b08cebc45e38de62",
        "IPY_MODEL_2fa7128f8fe44504a362090c8f2024c1"
       ],
       "layout": "IPY_MODEL_d273b212b13b4f269dea60821547c543"
      }
     },
     "568073f1a7114149bc943f7f66781873": {
      "model_module": "@jupyter-widgets/controls",
      "model_module_version": "2.0.0",
      "model_name": "HTMLModel",
      "state": {
       "layout": "IPY_MODEL_92fdf9069cc1454a95a8f64dfc4b59ae",
       "style": "IPY_MODEL_95b77dd792b247faa89a26f0e17666bd",
       "value": "Measuring performance and accuracy: 100%"
      }
     },
     "598e902e55a94e35a848379cd2e08647": {
      "model_module": "@jupyter-widgets/controls",
      "model_module_version": "2.0.0",
      "model_name": "ProgressStyleModel",
      "state": {
       "description_width": ""
      }
     },
     "5c52f2b4f95e404c891f7576d0c5181e": {
      "model_module": "@jupyter-widgets/controls",
      "model_module_version": "2.0.0",
      "model_name": "DropdownModel",
      "state": {
       "_options_labels": [
        "CPU",
        "AUTO"
       ],
       "description": "Device:",
       "index": 0,
       "layout": "IPY_MODEL_841350e9e5954787854b5721a232d7d8",
       "style": "IPY_MODEL_d39298ca8c104f409e69611cff9801aa"
      }
     },
     "5d163ca8e0104f60bbdc353e19b050b5": {
      "model_module": "@jupyter-widgets/base",
      "model_module_version": "2.0.0",
      "model_name": "LayoutModel",
      "state": {}
     },
     "6320d08bb6d348d3afbcc7575baaa6c8": {
      "model_module": "@jupyter-widgets/base",
      "model_module_version": "2.0.0",
      "model_name": "LayoutModel",
      "state": {}
     },
     "646c0f8d3a4e42bb95d75c9ca01bc03e": {
      "model_module": "@jupyter-widgets/base",
      "model_module_version": "2.0.0",
      "model_name": "LayoutModel",
      "state": {}
     },
     "649e8d6110c6409290dde58893dc4a2f": {
      "model_module": "@jupyter-widgets/controls",
      "model_module_version": "2.0.0",
      "model_name": "HBoxModel",
      "state": {
       "children": [
        "IPY_MODEL_568073f1a7114149bc943f7f66781873",
        "IPY_MODEL_86fdb708ea9a4b9d90b67cc20e72dbd4",
        "IPY_MODEL_a24f44a309cd43aeb760f30c2977de3f"
       ],
       "layout": "IPY_MODEL_b9dbb4d19f9e41049cb7fee989692008"
      }
     },
     "6a1873276bfb4b6db2002b3685a51e97": {
      "model_module": "@jupyter-widgets/base",
      "model_module_version": "2.0.0",
      "model_name": "LayoutModel",
      "state": {}
     },
     "727dc6805c1942c7b6142e9bf7b02a00": {
      "model_module": "@jupyter-widgets/base",
      "model_module_version": "2.0.0",
      "model_name": "LayoutModel",
      "state": {}
     },
     "7299057f53b5498d82344921199747ae": {
      "model_module": "@jupyter-widgets/controls",
      "model_module_version": "2.0.0",
      "model_name": "HBoxModel",
      "state": {
       "children": [
        "IPY_MODEL_4a093445337d41199b11c3f13cc291d9",
        "IPY_MODEL_f85e9284352643d59a21ec31cefeb878",
        "IPY_MODEL_83d0ba57e55a4c029335b51cc4510c09"
       ],
       "layout": "IPY_MODEL_8f6fd3961213486ab102945d46bcfb71"
      }
     },
     "77cc4db07aa949c18427f00fd4348f5b": {
      "model_module": "@jupyter-widgets/controls",
      "model_module_version": "2.0.0",
      "model_name": "HBoxModel",
      "state": {
       "children": [
        "IPY_MODEL_f97ee303c4544043936d47abcb0ba0d9",
        "IPY_MODEL_fb3fb5ab289a4d2f9414434c5e541039",
        "IPY_MODEL_8064da00fad5402cb208fe41a0c5148f"
       ],
       "layout": "IPY_MODEL_6a1873276bfb4b6db2002b3685a51e97"
      }
     },
     "79737139412141db8843a3b374fe4757": {
      "model_module": "@jupyter-widgets/output",
      "model_module_version": "1.0.0",
      "model_name": "OutputModel",
      "state": {
       "layout": "IPY_MODEL_f896583438244a54b3730c3d26a0f4ea",
       "outputs": [
        {
         "data": {
          "text/html": "<pre style=\"white-space:pre;overflow-x:auto;line-height:normal;font-family:Menlo,'DejaVu Sans Mono',consolas,'Courier New',monospace\">Applying Fast Bias correction <span style=\"color: #729c1f; text-decoration-color: #729c1f\">━━━━━━━━━━━━━━━━━━━━━━━━━━━━━━━━━━━━━━━━━━━━━━━━━━━━━━</span> <span style=\"color: #800080; text-decoration-color: #800080\">100%</span> <span style=\"color: #0068b5; text-decoration-color: #0068b5\">22/22</span> • <span style=\"color: #0068b5; text-decoration-color: #0068b5\">0:00:00</span> • <span style=\"color: #0068b5; text-decoration-color: #0068b5\">0:00:00</span>\n</pre>\n",
          "text/plain": "Applying Fast Bias correction \u001b[38;2;114;156;31m━━━━━━━━━━━━━━━━━━━━━━━━━━━━━━━━━━━━━━━━━━━━━━━━━━━━━━\u001b[0m \u001b[35m100%\u001b[0m \u001b[38;2;0;104;181m22/22\u001b[0m • \u001b[38;2;0;104;181m0:00:00\u001b[0m • \u001b[38;2;0;104;181m0:00:00\u001b[0m\n"
         },
         "metadata": {},
         "output_type": "display_data"
        }
       ]
      }
     },
     "79b98ec0a8b344039fa4ca96ed44e868": {
      "model_module": "@jupyter-widgets/controls",
      "model_module_version": "2.0.0",
      "model_name": "HTMLStyleModel",
      "state": {
       "description_width": "",
       "font_size": null,
       "text_color": null
      }
     },
     "7c115e70fb2945b4a39bcb3a5d1e1ef9": {
      "model_module": "@jupyter-widgets/controls",
      "model_module_version": "2.0.0",
      "model_name": "DescriptionStyleModel",
      "state": {
       "description_width": ""
      }
     },
     "8064da00fad5402cb208fe41a0c5148f": {
      "model_module": "@jupyter-widgets/controls",
      "model_module_version": "2.0.0",
      "model_name": "HTMLModel",
      "state": {
       "layout": "IPY_MODEL_4949fea19e50449f93e881babead1fc6",
       "style": "IPY_MODEL_c8c961e54e024b0b8e66c742ccd99d8d",
       "value": " 10/10 [00:05&lt;00:00,  1.77it/s]"
      }
     },
     "80ec67feeaae4393b083f785a3964041": {
      "model_module": "@jupyter-widgets/base",
      "model_module_version": "2.0.0",
      "model_name": "LayoutModel",
      "state": {}
     },
     "818515fd7a2d47d8a70bd4f4b6cfc2a9": {
      "model_module": "@jupyter-widgets/controls",
      "model_module_version": "2.0.0",
      "model_name": "ProgressStyleModel",
      "state": {
       "description_width": ""
      }
     },
     "83d0ba57e55a4c029335b51cc4510c09": {
      "model_module": "@jupyter-widgets/controls",
      "model_module_version": "2.0.0",
      "model_name": "HTMLModel",
      "state": {
       "layout": "IPY_MODEL_ebf12c9ea9ba48c691e5c10fd2f90f3e",
       "style": "IPY_MODEL_25e6f14ec8c84fcc97ea03ef87c01563",
       "value": " 10/10 [00:02&lt;00:00,  3.43it/s]"
      }
     },
     "841350e9e5954787854b5721a232d7d8": {
      "model_module": "@jupyter-widgets/base",
      "model_module_version": "2.0.0",
      "model_name": "LayoutModel",
      "state": {}
     },
     "8436cfa59d99481baeda13db2f3b19fe": {
      "model_module": "@jupyter-widgets/controls",
      "model_module_version": "2.0.0",
      "model_name": "CheckboxStyleModel",
      "state": {
       "description_width": ""
      }
     },
     "86fdb708ea9a4b9d90b67cc20e72dbd4": {
      "model_module": "@jupyter-widgets/controls",
      "model_module_version": "2.0.0",
      "model_name": "FloatProgressModel",
      "state": {
       "bar_style": "success",
       "layout": "IPY_MODEL_ad18016c6e2e45ae9311ab3c67f3884e",
       "max": 50,
       "style": "IPY_MODEL_598e902e55a94e35a848379cd2e08647",
       "value": 50
      }
     },
     "8f6fd3961213486ab102945d46bcfb71": {
      "model_module": "@jupyter-widgets/base",
      "model_module_version": "2.0.0",
      "model_name": "LayoutModel",
      "state": {}
     },
     "900fbf9efaa24b8580b27e17fce211e5": {
      "model_module": "@jupyter-widgets/controls",
      "model_module_version": "2.0.0",
      "model_name": "HBoxModel",
      "state": {
       "children": [
        "IPY_MODEL_f6f701bbf6874ba4a89bea3a769ccc11",
        "IPY_MODEL_f91c17be2c5342f8bd77bbf1b01c4544",
        "IPY_MODEL_e3dea3abd01243459437c2a60169cc1e"
       ],
       "layout": "IPY_MODEL_c6349ec303ff470ba446467130b9a3e6"
      }
     },
     "92fdf9069cc1454a95a8f64dfc4b59ae": {
      "model_module": "@jupyter-widgets/base",
      "model_module_version": "2.0.0",
      "model_name": "LayoutModel",
      "state": {}
     },
     "95b77dd792b247faa89a26f0e17666bd": {
      "model_module": "@jupyter-widgets/controls",
      "model_module_version": "2.0.0",
      "model_name": "HTMLStyleModel",
      "state": {
       "description_width": "",
       "font_size": null,
       "text_color": null
      }
     },
     "9e54af0769a240deb01e9a1bbc8e7fbf": {
      "model_module": "@jupyter-widgets/controls",
      "model_module_version": "2.0.0",
      "model_name": "HTMLStyleModel",
      "state": {
       "description_width": "",
       "font_size": null,
       "text_color": null
      }
     },
     "9e71d55449104669ac988e41dcb4ac45": {
      "model_module": "@jupyter-widgets/base",
      "model_module_version": "2.0.0",
      "model_name": "LayoutModel",
      "state": {}
     },
     "a034e16f381f46f39b51cab41e0d1f70": {
      "model_module": "@jupyter-widgets/output",
      "model_module_version": "1.0.0",
      "model_name": "OutputModel",
      "state": {
       "layout": "IPY_MODEL_727dc6805c1942c7b6142e9bf7b02a00",
       "outputs": [
        {
         "data": {
          "text/html": "<pre style=\"white-space:pre;overflow-x:auto;line-height:normal;font-family:Menlo,'DejaVu Sans Mono',consolas,'Courier New',monospace\">Statistics collection <span style=\"color: #729c1f; text-decoration-color: #729c1f\">━━━━━━━━━━━━━━━━━━━━━━━━━━━━━━━━━━━━━━━━━━━━━━━━━━━━━━━━━━━━</span> <span style=\"color: #800080; text-decoration-color: #800080\">100%</span> <span style=\"color: #0068b5; text-decoration-color: #0068b5\">660/660</span> • <span style=\"color: #0068b5; text-decoration-color: #0068b5\">0:00:14</span> • <span style=\"color: #0068b5; text-decoration-color: #0068b5\">0:00:00</span>\n</pre>\n",
          "text/plain": "Statistics collection \u001b[38;2;114;156;31m━━━━━━━━━━━━━━━━━━━━━━━━━━━━━━━━━━━━━━━━━━━━━━━━━━━━━━━━━━━━\u001b[0m \u001b[35m100%\u001b[0m \u001b[38;2;0;104;181m660/660\u001b[0m • \u001b[38;2;0;104;181m0:00:14\u001b[0m • \u001b[38;2;0;104;181m0:00:00\u001b[0m\n"
         },
         "metadata": {},
         "output_type": "display_data"
        }
       ]
      }
     },
     "a17973a553a14ef1b08cebc45e38de62": {
      "model_module": "@jupyter-widgets/controls",
      "model_module_version": "2.0.0",
      "model_name": "FloatProgressModel",
      "state": {
       "bar_style": "success",
       "layout": "IPY_MODEL_3063e9a5aa214ecd95a75bb1daff047c",
       "max": 30,
       "style": "IPY_MODEL_0fc87285d3bb45b1a2034fe1be20da2c",
       "value": 30
      }
     },
     "a221a0870e0348a48ffc2657d70309e0": {
      "model_module": "@jupyter-widgets/controls",
      "model_module_version": "2.0.0",
      "model_name": "DescriptionStyleModel",
      "state": {
       "description_width": ""
      }
     },
     "a24f44a309cd43aeb760f30c2977de3f": {
      "model_module": "@jupyter-widgets/controls",
      "model_module_version": "2.0.0",
      "model_name": "HTMLModel",
      "state": {
       "layout": "IPY_MODEL_bb263ac0a3ff474abdd2682d974f85a5",
       "style": "IPY_MODEL_c9ff874008594dc4a051860567f71608",
       "value": " 50/50 [00:07&lt;00:00,  6.77it/s]"
      }
     },
     "a33993396f1249d89420edc5fe5b978d": {
      "model_module": "@jupyter-widgets/base",
      "model_module_version": "2.0.0",
      "model_name": "LayoutModel",
      "state": {}
     },
     "a362df559fdd4382a7b9bd0c8b92d7a6": {
      "model_module": "@jupyter-widgets/base",
      "model_module_version": "2.0.0",
      "model_name": "LayoutModel",
      "state": {}
     },
     "ad18016c6e2e45ae9311ab3c67f3884e": {
      "model_module": "@jupyter-widgets/base",
      "model_module_version": "2.0.0",
      "model_name": "LayoutModel",
      "state": {}
     },
     "adb22e2cdbee406b8a521ba88009b7b6": {
      "model_module": "@jupyter-widgets/controls",
      "model_module_version": "2.0.0",
      "model_name": "HTMLStyleModel",
      "state": {
       "description_width": "",
       "font_size": null,
       "text_color": null
      }
     },
     "b4bd7dc265794496aea9119fda9bbe6f": {
      "model_module": "@jupyter-widgets/base",
      "model_module_version": "2.0.0",
      "model_name": "LayoutModel",
      "state": {}
     },
     "b5e5397c179644e6a4cb24fc9a27169c": {
      "model_module": "@jupyter-widgets/output",
      "model_module_version": "1.0.0",
      "model_name": "OutputModel",
      "state": {
       "layout": "IPY_MODEL_b4bd7dc265794496aea9119fda9bbe6f",
       "outputs": [
        {
         "data": {
          "text/html": "<pre style=\"white-space:pre;overflow-x:auto;line-height:normal;font-family:Menlo,'DejaVu Sans Mono',consolas,'Courier New',monospace\">Applying Fast Bias correction <span style=\"color: #729c1f; text-decoration-color: #729c1f\">━━━━━━━━━━━━━━━━━━━━━━━━━━━━━━━━━━━━━━━━━━━━━━━━━━━━━━</span> <span style=\"color: #800080; text-decoration-color: #800080\">100%</span> <span style=\"color: #0068b5; text-decoration-color: #0068b5\">32/32</span> • <span style=\"color: #0068b5; text-decoration-color: #0068b5\">0:00:01</span> • <span style=\"color: #0068b5; text-decoration-color: #0068b5\">0:00:00</span>\n</pre>\n",
          "text/plain": "Applying Fast Bias correction \u001b[38;2;114;156;31m━━━━━━━━━━━━━━━━━━━━━━━━━━━━━━━━━━━━━━━━━━━━━━━━━━━━━━\u001b[0m \u001b[35m100%\u001b[0m \u001b[38;2;0;104;181m32/32\u001b[0m • \u001b[38;2;0;104;181m0:00:01\u001b[0m • \u001b[38;2;0;104;181m0:00:00\u001b[0m\n"
         },
         "metadata": {},
         "output_type": "display_data"
        }
       ]
      }
     },
     "b6fce9f79d8947f4a69b07ddb9ebf51e": {
      "model_module": "@jupyter-widgets/base",
      "model_module_version": "2.0.0",
      "model_name": "LayoutModel",
      "state": {}
     },
     "b839a00187f343dba6b48b0d672043c3": {
      "model_module": "@jupyter-widgets/base",
      "model_module_version": "2.0.0",
      "model_name": "LayoutModel",
      "state": {}
     },
     "b9dbb4d19f9e41049cb7fee989692008": {
      "model_module": "@jupyter-widgets/base",
      "model_module_version": "2.0.0",
      "model_name": "LayoutModel",
      "state": {}
     },
     "bb263ac0a3ff474abdd2682d974f85a5": {
      "model_module": "@jupyter-widgets/base",
      "model_module_version": "2.0.0",
      "model_name": "LayoutModel",
      "state": {}
     },
     "bcc396748b2747a78ccffa20816f1e50": {
      "model_module": "@jupyter-widgets/base",
      "model_module_version": "2.0.0",
      "model_name": "LayoutModel",
      "state": {}
     },
     "bf92c87f81d44614a18c5bae49da94d1": {
      "model_module": "@jupyter-widgets/controls",
      "model_module_version": "2.0.0",
      "model_name": "ProgressStyleModel",
      "state": {
       "description_width": ""
      }
     },
     "c031c143f3624463bc52209dfba12734": {
      "model_module": "@jupyter-widgets/output",
      "model_module_version": "1.0.0",
      "model_name": "OutputModel",
      "state": {
       "layout": "IPY_MODEL_b6fce9f79d8947f4a69b07ddb9ebf51e",
       "outputs": [
        {
         "data": {
          "text/html": "<pre style=\"white-space:pre;overflow-x:auto;line-height:normal;font-family:Menlo,'DejaVu Sans Mono',consolas,'Courier New',monospace\">Applying Smooth Quant <span style=\"color: #729c1f; text-decoration-color: #729c1f\">━━━━━━━━━━━━━━━━━━━━━━━━━━━━━━━━━━━━━━━━━━━━━━━━━━━━━━━━━━━━━━</span> <span style=\"color: #800080; text-decoration-color: #800080\">100%</span> <span style=\"color: #0068b5; text-decoration-color: #0068b5\">25/25</span> • <span style=\"color: #0068b5; text-decoration-color: #0068b5\">0:00:00</span> • <span style=\"color: #0068b5; text-decoration-color: #0068b5\">0:00:00</span>\n</pre>\n",
          "text/plain": "Applying Smooth Quant \u001b[38;2;114;156;31m━━━━━━━━━━━━━━━━━━━━━━━━━━━━━━━━━━━━━━━━━━━━━━━━━━━━━━━━━━━━━━\u001b[0m \u001b[35m100%\u001b[0m \u001b[38;2;0;104;181m25/25\u001b[0m • \u001b[38;2;0;104;181m0:00:00\u001b[0m • \u001b[38;2;0;104;181m0:00:00\u001b[0m\n"
         },
         "metadata": {},
         "output_type": "display_data"
        }
       ]
      }
     },
     "c437cb5a38614b68bc37497af8dc0ca9": {
      "model_module": "@jupyter-widgets/base",
      "model_module_version": "2.0.0",
      "model_name": "LayoutModel",
      "state": {}
     },
     "c6349ec303ff470ba446467130b9a3e6": {
      "model_module": "@jupyter-widgets/base",
      "model_module_version": "2.0.0",
      "model_name": "LayoutModel",
      "state": {}
     },
     "c8c961e54e024b0b8e66c742ccd99d8d": {
      "model_module": "@jupyter-widgets/controls",
      "model_module_version": "2.0.0",
      "model_name": "HTMLStyleModel",
      "state": {
       "description_width": "",
       "font_size": null,
       "text_color": null
      }
     },
     "c9ff874008594dc4a051860567f71608": {
      "model_module": "@jupyter-widgets/controls",
      "model_module_version": "2.0.0",
      "model_name": "HTMLStyleModel",
      "state": {
       "description_width": "",
       "font_size": null,
       "text_color": null
      }
     },
     "d273b212b13b4f269dea60821547c543": {
      "model_module": "@jupyter-widgets/base",
      "model_module_version": "2.0.0",
      "model_name": "LayoutModel",
      "state": {}
     },
     "d39298ca8c104f409e69611cff9801aa": {
      "model_module": "@jupyter-widgets/controls",
      "model_module_version": "2.0.0",
      "model_name": "DescriptionStyleModel",
      "state": {
       "description_width": ""
      }
     },
     "d8fd8c07090047eab901e5bc0995f5d0": {
      "model_module": "@jupyter-widgets/output",
      "model_module_version": "1.0.0",
      "model_name": "OutputModel",
      "state": {
       "layout": "IPY_MODEL_5d163ca8e0104f60bbdc353e19b050b5",
       "outputs": [
        {
         "data": {
          "text/html": "<pre style=\"white-space:pre;overflow-x:auto;line-height:normal;font-family:Menlo,'DejaVu Sans Mono',consolas,'Courier New',monospace\">Statistics collection <span style=\"color: #729c1f; text-decoration-color: #729c1f\">━━━━━━━━━━━━━━━━━━━━━━━━━━━━━━━━━━━━━━━━━━━━━━━━━━━━━━━━━━━━━━</span> <span style=\"color: #800080; text-decoration-color: #800080\">100%</span> <span style=\"color: #0068b5; text-decoration-color: #0068b5\">60/60</span> • <span style=\"color: #0068b5; text-decoration-color: #0068b5\">0:00:02</span> • <span style=\"color: #0068b5; text-decoration-color: #0068b5\">0:00:00</span>\n</pre>\n",
          "text/plain": "Statistics collection \u001b[38;2;114;156;31m━━━━━━━━━━━━━━━━━━━━━━━━━━━━━━━━━━━━━━━━━━━━━━━━━━━━━━━━━━━━━━\u001b[0m \u001b[35m100%\u001b[0m \u001b[38;2;0;104;181m60/60\u001b[0m • \u001b[38;2;0;104;181m0:00:02\u001b[0m • \u001b[38;2;0;104;181m0:00:00\u001b[0m\n"
         },
         "metadata": {},
         "output_type": "display_data"
        }
       ]
      }
     },
     "da478d6cef4943d99e9203bc7726a305": {
      "model_module": "@jupyter-widgets/controls",
      "model_module_version": "2.0.0",
      "model_name": "ProgressStyleModel",
      "state": {
       "description_width": ""
      }
     },
     "de04d94eef7646588999669a647cea10": {
      "model_module": "@jupyter-widgets/base",
      "model_module_version": "2.0.0",
      "model_name": "LayoutModel",
      "state": {}
     },
     "e3dea3abd01243459437c2a60169cc1e": {
      "model_module": "@jupyter-widgets/controls",
      "model_module_version": "2.0.0",
      "model_name": "HTMLModel",
      "state": {
       "layout": "IPY_MODEL_049de2cd55844750aa92d1acc01c342d",
       "style": "IPY_MODEL_3966565cb3d346499e1c085088a11071",
       "value": " 50/50 [00:08&lt;00:00,  6.01it/s]"
      }
     },
     "ebf12c9ea9ba48c691e5c10fd2f90f3e": {
      "model_module": "@jupyter-widgets/base",
      "model_module_version": "2.0.0",
      "model_name": "LayoutModel",
      "state": {}
     },
     "f2ca8f99757646cc8497da59ba445cef": {
      "model_module": "@jupyter-widgets/controls",
      "model_module_version": "2.0.0",
      "model_name": "CheckboxModel",
      "state": {
       "description": "Quantization",
       "disabled": false,
       "layout": "IPY_MODEL_bcc396748b2747a78ccffa20816f1e50",
       "style": "IPY_MODEL_8436cfa59d99481baeda13db2f3b19fe",
       "value": true
      }
     },
     "f58a826b9acb427387ea96ac1488ce46": {
      "model_module": "@jupyter-widgets/output",
      "model_module_version": "1.0.0",
      "model_name": "OutputModel",
      "state": {
       "layout": "IPY_MODEL_413e2e6db6b74362bc8a8073f8f56452",
       "outputs": [
        {
         "data": {
          "text/html": "<pre style=\"white-space:pre;overflow-x:auto;line-height:normal;font-family:Menlo,'DejaVu Sans Mono',consolas,'Courier New',monospace\">Statistics collection <span style=\"color: #729c1f; text-decoration-color: #729c1f\">━━━━━━━━━━━━━━━━━━━━━━━━━━━━━━━━━━━━━━━━━━━━━━━━━━━━━━━━━━━━━━</span> <span style=\"color: #800080; text-decoration-color: #800080\">100%</span> <span style=\"color: #0068b5; text-decoration-color: #0068b5\">60/60</span> • <span style=\"color: #0068b5; text-decoration-color: #0068b5\">0:00:06</span> • <span style=\"color: #0068b5; text-decoration-color: #0068b5\">0:00:00</span>\n</pre>\n",
          "text/plain": "Statistics collection \u001b[38;2;114;156;31m━━━━━━━━━━━━━━━━━━━━━━━━━━━━━━━━━━━━━━━━━━━━━━━━━━━━━━━━━━━━━━\u001b[0m \u001b[35m100%\u001b[0m \u001b[38;2;0;104;181m60/60\u001b[0m • \u001b[38;2;0;104;181m0:00:06\u001b[0m • \u001b[38;2;0;104;181m0:00:00\u001b[0m\n"
         },
         "metadata": {},
         "output_type": "display_data"
        }
       ]
      }
     },
     "f6f701bbf6874ba4a89bea3a769ccc11": {
      "model_module": "@jupyter-widgets/controls",
      "model_module_version": "2.0.0",
      "model_name": "HTMLModel",
      "state": {
       "layout": "IPY_MODEL_a362df559fdd4382a7b9bd0c8b92d7a6",
       "style": "IPY_MODEL_9e54af0769a240deb01e9a1bbc8e7fbf",
       "value": "Measuring performance and accuracy: 100%"
      }
     },
     "f85e9284352643d59a21ec31cefeb878": {
      "model_module": "@jupyter-widgets/controls",
      "model_module_version": "2.0.0",
      "model_name": "FloatProgressModel",
      "state": {
       "bar_style": "success",
       "layout": "IPY_MODEL_2b6bea2fa75d464abce6bf980caca593",
       "max": 10,
       "style": "IPY_MODEL_818515fd7a2d47d8a70bd4f4b6cfc2a9",
       "value": 10
      }
     },
     "f86fcb24d2704e2c844b39ec19a8f061": {
      "model_module": "@jupyter-widgets/output",
      "model_module_version": "1.0.0",
      "model_name": "OutputModel",
      "state": {
       "layout": "IPY_MODEL_2a09c5cdb2974e68943e455b2fd52d8d",
       "outputs": [
        {
         "data": {
          "text/html": "<pre style=\"white-space:pre;overflow-x:auto;line-height:normal;font-family:Menlo,'DejaVu Sans Mono',consolas,'Courier New',monospace\">Statistics collection <span style=\"color: #729c1f; text-decoration-color: #729c1f\">━━━━━━━━━━━━━━━━━━━━━━━━━━━━━━━━━━━━━━━━━━━━━━━━━━━━━━━━━━━━</span> <span style=\"color: #800080; text-decoration-color: #800080\">100%</span> <span style=\"color: #0068b5; text-decoration-color: #0068b5\">660/660</span> • <span style=\"color: #0068b5; text-decoration-color: #0068b5\">0:00:06</span> • <span style=\"color: #0068b5; text-decoration-color: #0068b5\">0:00:00</span>\n</pre>\n",
          "text/plain": "Statistics collection \u001b[38;2;114;156;31m━━━━━━━━━━━━━━━━━━━━━━━━━━━━━━━━━━━━━━━━━━━━━━━━━━━━━━━━━━━━\u001b[0m \u001b[35m100%\u001b[0m \u001b[38;2;0;104;181m660/660\u001b[0m • \u001b[38;2;0;104;181m0:00:06\u001b[0m • \u001b[38;2;0;104;181m0:00:00\u001b[0m\n"
         },
         "metadata": {},
         "output_type": "display_data"
        }
       ]
      }
     },
     "f896583438244a54b3730c3d26a0f4ea": {
      "model_module": "@jupyter-widgets/base",
      "model_module_version": "2.0.0",
      "model_name": "LayoutModel",
      "state": {}
     },
     "f91c17be2c5342f8bd77bbf1b01c4544": {
      "model_module": "@jupyter-widgets/controls",
      "model_module_version": "2.0.0",
      "model_name": "FloatProgressModel",
      "state": {
       "bar_style": "success",
       "layout": "IPY_MODEL_646c0f8d3a4e42bb95d75c9ca01bc03e",
       "max": 50,
       "style": "IPY_MODEL_bf92c87f81d44614a18c5bae49da94d1",
       "value": 50
      }
     },
     "f97ee303c4544043936d47abcb0ba0d9": {
      "model_module": "@jupyter-widgets/controls",
      "model_module_version": "2.0.0",
      "model_name": "HTMLModel",
      "state": {
       "layout": "IPY_MODEL_face057f95ed4f97aed6e41c29dd0e71",
       "style": "IPY_MODEL_32cff900a4824d54aa5fceb48116c62e",
       "value": "Measuring performance: 100%"
      }
     },
     "fa500406355b4390adea2fb704e45ea5": {
      "model_module": "@jupyter-widgets/controls",
      "model_module_version": "2.0.0",
      "model_name": "DropdownModel",
      "state": {
       "_options_labels": [
        "openai/whisper-large-v3-turbo",
        "openai/whisper-large-v3",
        "openai/whisper-large-v2",
        "openai/whisper-large",
        "openai/whisper-medium",
        "openai/whisper-small",
        "openai/whisper-base",
        "openai/whisper-tiny"
       ],
       "description": "Model:",
       "index": 7,
       "layout": "IPY_MODEL_6320d08bb6d348d3afbcc7575baaa6c8",
       "style": "IPY_MODEL_44d737f56578422096775d46347d542e"
      }
     },
     "face057f95ed4f97aed6e41c29dd0e71": {
      "model_module": "@jupyter-widgets/base",
      "model_module_version": "2.0.0",
      "model_name": "LayoutModel",
      "state": {}
     },
     "fb3fb5ab289a4d2f9414434c5e541039": {
      "model_module": "@jupyter-widgets/controls",
      "model_module_version": "2.0.0",
      "model_name": "FloatProgressModel",
      "state": {
       "bar_style": "success",
       "layout": "IPY_MODEL_b839a00187f343dba6b48b0d672043c3",
       "max": 10,
       "style": "IPY_MODEL_da478d6cef4943d99e9203bc7726a305",
       "value": 10
      }
     },
     "fb62be4b7a084b8c832c9d91efc56b66": {
      "model_module": "@jupyter-widgets/controls",
      "model_module_version": "2.0.0",
      "model_name": "HTMLStyleModel",
      "state": {
       "description_width": "",
       "font_size": null,
       "text_color": null
      }
     }
    },
    "version_major": 2,
    "version_minor": 0
   }
  }
 },
 "nbformat": 4,
 "nbformat_minor": 5
}
